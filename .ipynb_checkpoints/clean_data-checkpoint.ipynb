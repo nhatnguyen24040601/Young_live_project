{
 "cells": [
  {
   "cell_type": "code",
   "execution_count": 387,
   "id": "dd06e7e6-b4f2-4984-a32d-aeca9586b645",
   "metadata": {},
   "outputs": [],
   "source": [
    "import pandas as pd\n",
    "import numpy as np\n",
    "import seaborn as sns\n",
    "import matplotlib.pyplot as plt\n",
    "from sklearn.preprocessing import StandardScaler, MinMaxScaler\n",
    "from sklearn.decomposition import PCA\n",
    "from sklearn.model_selection import train_test_split\n",
    "from tensorflow.keras.models import Sequential\n",
    "from tensorflow.keras.layers import Dense\n",
    "from sklearn.metrics import r2_score\n",
    "from sklearn.model_selection import train_test_split\n",
    "import shap\n",
    "from tensorflow.keras.layers import Dropout\n",
    "from tensorflow.keras.callbacks import EarlyStopping"
   ]
  },
  {
   "cell_type": "code",
   "execution_count": 386,
   "id": "4d26fe06-4f90-4f77-af02-ccb35d5a55f2",
   "metadata": {},
   "outputs": [],
   "source": [
    "data = pd.read_stata(\"data/vietnam_finaldataset.dta\")"
   ]
  },
  {
   "cell_type": "code",
   "execution_count": 334,
   "id": "63030a4e-197b-429a-bb1e-cd86bab99e87",
   "metadata": {},
   "outputs": [],
   "source": [
    "df = pd.DataFrame(data)"
   ]
  },
  {
   "cell_type": "code",
   "execution_count": null,
   "id": "d7002daf-61b3-49c7-a66c-d7614c6e0084",
   "metadata": {},
   "outputs": [],
   "source": []
  },
  {
   "cell_type": "code",
   "execution_count": 335,
   "id": "a128e298-795a-4ef1-ae9c-19d38e070d3d",
   "metadata": {},
   "outputs": [
    {
     "data": {
      "text/html": [
       "<div>\n",
       "<style scoped>\n",
       "    .dataframe tbody tr th:only-of-type {\n",
       "        vertical-align: middle;\n",
       "    }\n",
       "\n",
       "    .dataframe tbody tr th {\n",
       "        vertical-align: top;\n",
       "    }\n",
       "\n",
       "    .dataframe thead th {\n",
       "        text-align: right;\n",
       "    }\n",
       "</style>\n",
       "<table border=\"1\" class=\"dataframe\">\n",
       "  <thead>\n",
       "    <tr style=\"text-align: right;\">\n",
       "      <th></th>\n",
       "      <th>CHILDCODE</th>\n",
       "      <th>agemon1</th>\n",
       "      <th>aniany1</th>\n",
       "      <th>bcg1</th>\n",
       "      <th>bmi1</th>\n",
       "      <th>careage1</th>\n",
       "      <th>carecantread1</th>\n",
       "      <th>caredu1</th>\n",
       "      <th>caregiver_is_female1</th>\n",
       "      <th>caregiver_is_parent1</th>\n",
       "      <th>...</th>\n",
       "      <th>z_maths_raw_r5</th>\n",
       "      <th>z_read_raw_r5</th>\n",
       "      <th>STNPRSR5_r5</th>\n",
       "      <th>katz_norms_r5</th>\n",
       "      <th>z_selfefficacy_r5</th>\n",
       "      <th>z_agency_r5</th>\n",
       "      <th>z_selfsteem_r5</th>\n",
       "      <th>z_peersr5</th>\n",
       "      <th>z_pride_r5</th>\n",
       "      <th>z_relationparents_r5</th>\n",
       "    </tr>\n",
       "  </thead>\n",
       "  <tbody>\n",
       "    <tr>\n",
       "      <th>0</th>\n",
       "      <td>10001</td>\n",
       "      <td>7</td>\n",
       "      <td>1</td>\n",
       "      <td>yes</td>\n",
       "      <td>14.922146</td>\n",
       "      <td>30</td>\n",
       "      <td>no</td>\n",
       "      <td>Grade 12</td>\n",
       "      <td>1.0</td>\n",
       "      <td>1.0</td>\n",
       "      <td>...</td>\n",
       "      <td>1.180432</td>\n",
       "      <td>-0.567188</td>\n",
       "      <td>8</td>\n",
       "      <td>0.501903</td>\n",
       "      <td>-0.902831</td>\n",
       "      <td>0.405941</td>\n",
       "      <td>-0.593782</td>\n",
       "      <td>-0.197115</td>\n",
       "      <td>1.015500</td>\n",
       "      <td>-1.140962</td>\n",
       "    </tr>\n",
       "    <tr>\n",
       "      <th>1</th>\n",
       "      <td>10002</td>\n",
       "      <td>14</td>\n",
       "      <td>1</td>\n",
       "      <td>yes</td>\n",
       "      <td>15.547168</td>\n",
       "      <td>25</td>\n",
       "      <td>no</td>\n",
       "      <td>Post-secondary, vocational</td>\n",
       "      <td>1.0</td>\n",
       "      <td>1.0</td>\n",
       "      <td>...</td>\n",
       "      <td>0.547116</td>\n",
       "      <td>0.837693</td>\n",
       "      <td>7</td>\n",
       "      <td>-0.262727</td>\n",
       "      <td>-0.666351</td>\n",
       "      <td>-0.233022</td>\n",
       "      <td>0.613296</td>\n",
       "      <td>0.430333</td>\n",
       "      <td>-1.787409</td>\n",
       "      <td>-1.616398</td>\n",
       "    </tr>\n",
       "    <tr>\n",
       "      <th>2</th>\n",
       "      <td>10003</td>\n",
       "      <td>11</td>\n",
       "      <td>1</td>\n",
       "      <td>yes</td>\n",
       "      <td>15.734185</td>\n",
       "      <td>30</td>\n",
       "      <td>no</td>\n",
       "      <td>Grade 9</td>\n",
       "      <td>1.0</td>\n",
       "      <td>1.0</td>\n",
       "      <td>...</td>\n",
       "      <td>-0.561189</td>\n",
       "      <td>0.837693</td>\n",
       "      <td>4</td>\n",
       "      <td>0.254078</td>\n",
       "      <td>0.862961</td>\n",
       "      <td>1.068327</td>\n",
       "      <td>-0.134186</td>\n",
       "      <td>0.713549</td>\n",
       "      <td>0.292410</td>\n",
       "      <td>-0.155111</td>\n",
       "    </tr>\n",
       "    <tr>\n",
       "      <th>3</th>\n",
       "      <td>10004</td>\n",
       "      <td>12</td>\n",
       "      <td>1</td>\n",
       "      <td>yes</td>\n",
       "      <td>15.627442</td>\n",
       "      <td>36</td>\n",
       "      <td>no</td>\n",
       "      <td>Grade 6</td>\n",
       "      <td>1.0</td>\n",
       "      <td>1.0</td>\n",
       "      <td>...</td>\n",
       "      <td>0.388786</td>\n",
       "      <td>1.239088</td>\n",
       "      <td>6</td>\n",
       "      <td>-1.138824</td>\n",
       "      <td>-1.244954</td>\n",
       "      <td>1.017076</td>\n",
       "      <td>-0.926815</td>\n",
       "      <td>-0.699221</td>\n",
       "      <td>-1.034115</td>\n",
       "      <td>0.147575</td>\n",
       "    </tr>\n",
       "    <tr>\n",
       "      <th>4</th>\n",
       "      <td>10005</td>\n",
       "      <td>9</td>\n",
       "      <td>1</td>\n",
       "      <td>yes</td>\n",
       "      <td>17.101952</td>\n",
       "      <td>34</td>\n",
       "      <td>no</td>\n",
       "      <td>Grade 9</td>\n",
       "      <td>1.0</td>\n",
       "      <td>1.0</td>\n",
       "      <td>...</td>\n",
       "      <td>-1.402517</td>\n",
       "      <td>1.003388</td>\n",
       "      <td>5</td>\n",
       "      <td>-0.848556</td>\n",
       "      <td>-0.918531</td>\n",
       "      <td>-0.071417</td>\n",
       "      <td>0.376933</td>\n",
       "      <td>-0.179738</td>\n",
       "      <td>-1.097467</td>\n",
       "      <td>-0.820417</td>\n",
       "    </tr>\n",
       "  </tbody>\n",
       "</table>\n",
       "<p>5 rows × 217 columns</p>\n",
       "</div>"
      ],
      "text/plain": [
       "   CHILDCODE agemon1  aniany1 bcg1       bmi1  careage1 carecantread1  \\\n",
       "0      10001       7        1  yes  14.922146        30            no   \n",
       "1      10002      14        1  yes  15.547168        25            no   \n",
       "2      10003      11        1  yes  15.734185        30            no   \n",
       "3      10004      12        1  yes  15.627442        36            no   \n",
       "4      10005       9        1  yes  17.101952        34            no   \n",
       "\n",
       "                      caredu1  caregiver_is_female1  caregiver_is_parent1  \\\n",
       "0                    Grade 12                   1.0                   1.0   \n",
       "1  Post-secondary, vocational                   1.0                   1.0   \n",
       "2                     Grade 9                   1.0                   1.0   \n",
       "3                     Grade 6                   1.0                   1.0   \n",
       "4                     Grade 9                   1.0                   1.0   \n",
       "\n",
       "   ...  z_maths_raw_r5 z_read_raw_r5 STNPRSR5_r5 katz_norms_r5  \\\n",
       "0  ...        1.180432     -0.567188           8      0.501903   \n",
       "1  ...        0.547116      0.837693           7     -0.262727   \n",
       "2  ...       -0.561189      0.837693           4      0.254078   \n",
       "3  ...        0.388786      1.239088           6     -1.138824   \n",
       "4  ...       -1.402517      1.003388           5     -0.848556   \n",
       "\n",
       "  z_selfefficacy_r5 z_agency_r5 z_selfsteem_r5 z_peersr5 z_pride_r5  \\\n",
       "0         -0.902831    0.405941      -0.593782 -0.197115   1.015500   \n",
       "1         -0.666351   -0.233022       0.613296  0.430333  -1.787409   \n",
       "2          0.862961    1.068327      -0.134186  0.713549   0.292410   \n",
       "3         -1.244954    1.017076      -0.926815 -0.699221  -1.034115   \n",
       "4         -0.918531   -0.071417       0.376933 -0.179738  -1.097467   \n",
       "\n",
       "  z_relationparents_r5  \n",
       "0            -1.140962  \n",
       "1            -1.616398  \n",
       "2            -0.155111  \n",
       "3             0.147575  \n",
       "4            -0.820417  \n",
       "\n",
       "[5 rows x 217 columns]"
      ]
     },
     "execution_count": 335,
     "metadata": {},
     "output_type": "execute_result"
    }
   ],
   "source": [
    "df.head(5)\n",
    "# df.info()\n",
    "# df.describe()"
   ]
  },
  {
   "cell_type": "code",
   "execution_count": 74,
   "id": "08f9b3b3-1f98-4829-befc-99fa198617eb",
   "metadata": {},
   "outputs": [],
   "source": [
    "# for column in df.columns:\n",
    "#     print(column)"
   ]
  },
  {
   "cell_type": "markdown",
   "id": "cfbc6ce0-17ea-41fb-858e-21ac27bdcd4f",
   "metadata": {},
   "source": [
    "# Clean data"
   ]
  },
  {
   "cell_type": "code",
   "execution_count": 336,
   "id": "c4513018-2f1b-4033-a1a9-5bf25c2da2d5",
   "metadata": {},
   "outputs": [],
   "source": [
    "df = df.drop_duplicates()"
   ]
  },
  {
   "cell_type": "code",
   "execution_count": null,
   "id": "4141c54a-3983-433b-9452-9c4bbc15e1da",
   "metadata": {},
   "outputs": [],
   "source": []
  },
  {
   "cell_type": "code",
   "execution_count": 337,
   "id": "b7565709-d10b-4005-8c0a-b5a49eed045b",
   "metadata": {},
   "outputs": [],
   "source": [
    "dependent_vars = [\"agemon1\", \"female1\", \"stunting1\", \"underweight1\", \"bcg1\", \"measles1\", \"tetanus1\", \"has_longterm_disease_r1\", \"bmi1\",\"careage1\", \"carecantread1\", \"caredu1\", \"caregiver_is_female1\", \"caregiver_is_parent1\", \"dadage1\", \"dadedu1\", \"dadlive1\", \"momage1\", \"momedu1\", \"momlive1\", \"numante1\", \"hhsize1\", \"headage1\", \"headedu1\", \"headsex1\", \"ownlandhse1\", \"typesite1\", \"cookingq1\", \"drwaterq1\", \"elecq1\", \"toiletq1\", \"aniany1\", \"sv1\", \"injury_child_may_die_r1\", \"sees_dad_daily_r1\", \"sees_mom_daily_r1\", \"health_worse_than_others_r1\"]\n",
    "independent_vars = ['bmi5', 'stunting5', 'thinness5', 'chhealth5', 'z_selfefficacy_r5', 'z_agency_r5', 'z_selfsteem_r5', 'z_peersr5', 'z_pride_r5', 'z_relationparents_r5']"
   ]
  },
  {
   "cell_type": "code",
   "execution_count": 338,
   "id": "c5cef72a-7236-47b7-beee-57a88a935940",
   "metadata": {},
   "outputs": [],
   "source": [
    "cols_to_keep = dependent_vars + independent_vars\n",
    "df_filterd = df[cols_to_keep]"
   ]
  },
  {
   "cell_type": "code",
   "execution_count": 339,
   "id": "46df28d9-e96f-4b8c-a32a-fcb07ee22982",
   "metadata": {},
   "outputs": [],
   "source": [
    "# df_filterd.isna().sum()\n",
    "df_filterd = df_filterd.dropna()"
   ]
  },
  {
   "cell_type": "code",
   "execution_count": 340,
   "id": "1e8a2051-11c0-49c4-bd33-8ce9efba8b59",
   "metadata": {},
   "outputs": [],
   "source": [
    "X = pd.DataFrame(df_filterd[dependent_vars])\n",
    "y = pd.DataFrame(df_filterd[independent_vars])"
   ]
  },
  {
   "cell_type": "code",
   "execution_count": 385,
   "id": "f3ea7165-0c8b-42fe-9739-7fc0ea106ce5",
   "metadata": {},
   "outputs": [
    {
     "data": {
      "text/html": [
       "<div>\n",
       "<style scoped>\n",
       "    .dataframe tbody tr th:only-of-type {\n",
       "        vertical-align: middle;\n",
       "    }\n",
       "\n",
       "    .dataframe tbody tr th {\n",
       "        vertical-align: top;\n",
       "    }\n",
       "\n",
       "    .dataframe thead th {\n",
       "        text-align: right;\n",
       "    }\n",
       "</style>\n",
       "<table border=\"1\" class=\"dataframe\">\n",
       "  <thead>\n",
       "    <tr style=\"text-align: right;\">\n",
       "      <th></th>\n",
       "      <th>bmi5</th>\n",
       "      <th>stunting5</th>\n",
       "      <th>thinness5</th>\n",
       "      <th>chhealth5</th>\n",
       "      <th>z_selfefficacy_r5</th>\n",
       "      <th>z_agency_r5</th>\n",
       "      <th>z_selfsteem_r5</th>\n",
       "      <th>z_peersr5</th>\n",
       "      <th>z_pride_r5</th>\n",
       "      <th>z_relationparents_r5</th>\n",
       "    </tr>\n",
       "  </thead>\n",
       "  <tbody>\n",
       "    <tr>\n",
       "      <th>0</th>\n",
       "      <td>14.497697</td>\n",
       "      <td>moderately stunted</td>\n",
       "      <td>severely thin</td>\n",
       "      <td>average</td>\n",
       "      <td>-0.902831</td>\n",
       "      <td>0.405941</td>\n",
       "      <td>-0.593782</td>\n",
       "      <td>-0.197115</td>\n",
       "      <td>1.015500</td>\n",
       "      <td>-1.140962</td>\n",
       "    </tr>\n",
       "    <tr>\n",
       "      <th>1</th>\n",
       "      <td>19.965398</td>\n",
       "      <td>not stunted</td>\n",
       "      <td>not thin</td>\n",
       "      <td>average</td>\n",
       "      <td>-0.666351</td>\n",
       "      <td>-0.233022</td>\n",
       "      <td>0.613296</td>\n",
       "      <td>0.430333</td>\n",
       "      <td>-1.787409</td>\n",
       "      <td>-1.616398</td>\n",
       "    </tr>\n",
       "    <tr>\n",
       "      <th>2</th>\n",
       "      <td>17.469445</td>\n",
       "      <td>not stunted</td>\n",
       "      <td>not thin</td>\n",
       "      <td>average</td>\n",
       "      <td>0.862961</td>\n",
       "      <td>1.068327</td>\n",
       "      <td>-0.134186</td>\n",
       "      <td>0.713549</td>\n",
       "      <td>0.292410</td>\n",
       "      <td>-0.155111</td>\n",
       "    </tr>\n",
       "    <tr>\n",
       "      <th>3</th>\n",
       "      <td>19.086428</td>\n",
       "      <td>moderately stunted</td>\n",
       "      <td>not thin</td>\n",
       "      <td>average</td>\n",
       "      <td>-1.244954</td>\n",
       "      <td>1.017076</td>\n",
       "      <td>-0.926815</td>\n",
       "      <td>-0.699221</td>\n",
       "      <td>-1.034115</td>\n",
       "      <td>0.147575</td>\n",
       "    </tr>\n",
       "    <tr>\n",
       "      <th>6</th>\n",
       "      <td>21.771661</td>\n",
       "      <td>not stunted</td>\n",
       "      <td>not thin</td>\n",
       "      <td>average</td>\n",
       "      <td>0.383515</td>\n",
       "      <td>0.405941</td>\n",
       "      <td>0.299607</td>\n",
       "      <td>-0.197115</td>\n",
       "      <td>-0.407526</td>\n",
       "      <td>0.421651</td>\n",
       "    </tr>\n",
       "  </tbody>\n",
       "</table>\n",
       "</div>"
      ],
      "text/plain": [
       "        bmi5           stunting5      thinness5 chhealth5  z_selfefficacy_r5  \\\n",
       "0  14.497697  moderately stunted  severely thin   average          -0.902831   \n",
       "1  19.965398         not stunted       not thin   average          -0.666351   \n",
       "2  17.469445         not stunted       not thin   average           0.862961   \n",
       "3  19.086428  moderately stunted       not thin   average          -1.244954   \n",
       "6  21.771661         not stunted       not thin   average           0.383515   \n",
       "\n",
       "   z_agency_r5  z_selfsteem_r5  z_peersr5  z_pride_r5  z_relationparents_r5  \n",
       "0     0.405941       -0.593782  -0.197115    1.015500             -1.140962  \n",
       "1    -0.233022        0.613296   0.430333   -1.787409             -1.616398  \n",
       "2     1.068327       -0.134186   0.713549    0.292410             -0.155111  \n",
       "3     1.017076       -0.926815  -0.699221   -1.034115              0.147575  \n",
       "6     0.405941        0.299607  -0.197115   -0.407526              0.421651  "
      ]
     },
     "execution_count": 385,
     "metadata": {},
     "output_type": "execute_result"
    }
   ],
   "source": [
    "y.head()"
   ]
  },
  {
   "cell_type": "code",
   "execution_count": 384,
   "id": "a04421d1-cbd6-456f-8f85-14686e304630",
   "metadata": {},
   "outputs": [],
   "source": [
    "# X.head()\n",
    "# X.info()"
   ]
  },
  {
   "cell_type": "code",
   "execution_count": 381,
   "id": "9a762272-b55d-4b54-9d79-1162ef5ab45d",
   "metadata": {},
   "outputs": [],
   "source": [
    "# for i in X.columns:\n",
    "#     print(i)"
   ]
  },
  {
   "cell_type": "markdown",
   "id": "6e439aad-d10b-46cd-998e-531970354a48",
   "metadata": {},
   "source": [
    "# Features Clean"
   ]
  },
  {
   "cell_type": "code",
   "execution_count": 342,
   "id": "f58979a0-5eb6-483f-9304-f31d1cd25c1c",
   "metadata": {},
   "outputs": [
    {
     "data": {
      "text/plain": [
       "[0, 1, 2]\n",
       "Categories (3, int64): [0 < 1 < 2]"
      ]
     },
     "execution_count": 342,
     "metadata": {},
     "output_type": "execute_result"
    }
   ],
   "source": [
    "stunting_mapping = {\n",
    "    \"not stunted\": 0,\n",
    "    \"moderately stunted\": 1,\n",
    "    \"severely stunted\": 2,\n",
    "}\n",
    "\n",
    "X[\"stunting1\"] = X[\"stunting1\"].map(stunting_mapping)\n",
    "\n",
    "X[\"stunting1\"].unique()"
   ]
  },
  {
   "cell_type": "code",
   "execution_count": null,
   "id": "9c9ff679-b7c1-4f2e-a785-b4a612742987",
   "metadata": {},
   "outputs": [],
   "source": []
  },
  {
   "cell_type": "code",
   "execution_count": 343,
   "id": "8bad23bd-19a5-4734-8515-9820b9cb2c9c",
   "metadata": {},
   "outputs": [
    {
     "data": {
      "text/plain": [
       "[0, 1, 2]\n",
       "Categories (3, int64): [0 < 1 < 2]"
      ]
     },
     "execution_count": 343,
     "metadata": {},
     "output_type": "execute_result"
    }
   ],
   "source": [
    "underweight_mapping = {\n",
    "    \"not underweight\": 0,\n",
    "    \"moderately underweight\": 1,\n",
    "    \"severely underweight\": 2,\n",
    "}\n",
    "X[\"underweight1\"] = X[\"underweight1\"].map(underweight_mapping)\n",
    "\n",
    "X[\"underweight1\"].unique()"
   ]
  },
  {
   "cell_type": "code",
   "execution_count": 344,
   "id": "1dc29dad-05ff-4ff1-bf83-638ed136d08d",
   "metadata": {},
   "outputs": [
    {
     "data": {
      "text/plain": [
       "[1, 0]\n",
       "Categories (2, int64): [0 < 1]"
      ]
     },
     "execution_count": 344,
     "metadata": {},
     "output_type": "execute_result"
    }
   ],
   "source": [
    " bcg_mapping = {\n",
    "     \"no\": 0,\n",
    "     \"yes\": 1,\n",
    " }\n",
    "\n",
    "X[\"bcg1\"] = X[\"bcg1\"].map(bcg_mapping)\n",
    "X[\"bcg1\"].unique()"
   ]
  },
  {
   "cell_type": "code",
   "execution_count": 345,
   "id": "53591307-f77c-4078-9d8b-18eec43c5169",
   "metadata": {},
   "outputs": [
    {
     "data": {
      "text/plain": [
       "[0, 1]\n",
       "Categories (2, int64): [0 < 1]"
      ]
     },
     "execution_count": 345,
     "metadata": {},
     "output_type": "execute_result"
    }
   ],
   "source": [
    " bcg_mapping = {\n",
    "     \"no\": 0,\n",
    "     \"yes\": 1,\n",
    " }\n",
    "\n",
    "X[\"measles1\"] = X[\"measles1\"].map(bcg_mapping)\n",
    "X[\"measles1\"].unique()"
   ]
  },
  {
   "cell_type": "code",
   "execution_count": 346,
   "id": "765cc267-d4df-4d61-b2a6-8e16f3a8d7d9",
   "metadata": {},
   "outputs": [
    {
     "data": {
      "text/plain": [
       "[1, 0]\n",
       "Categories (2, int64): [0 < 1]"
      ]
     },
     "execution_count": 346,
     "metadata": {},
     "output_type": "execute_result"
    }
   ],
   "source": [
    " bcg_mapping = {\n",
    "     \"no\": 0,\n",
    "     \"yes\": 1,\n",
    " }\n",
    "\n",
    "X[\"tetanus1\"] = X[\"tetanus1\"].map(bcg_mapping)\n",
    "X[\"tetanus1\"].unique()"
   ]
  },
  {
   "cell_type": "code",
   "execution_count": 347,
   "id": "922f8f01-42dd-488a-a1fb-e82642a15261",
   "metadata": {},
   "outputs": [
    {
     "data": {
      "text/plain": [
       "[0, 1]\n",
       "Categories (2, int64): [0 < 1]"
      ]
     },
     "execution_count": 347,
     "metadata": {},
     "output_type": "execute_result"
    }
   ],
   "source": [
    " bcg_mapping = {\n",
    "     0: 0,\n",
    "     \"Yes\": 1,\n",
    " }\n",
    "\n",
    "X[\"has_longterm_disease_r1\"] = X[\"has_longterm_disease_r1\"].map(bcg_mapping)\n",
    "X[\"has_longterm_disease_r1\"].unique()"
   ]
  },
  {
   "cell_type": "code",
   "execution_count": 348,
   "id": "901b013c-80c2-450a-9137-a2770792143e",
   "metadata": {},
   "outputs": [
    {
     "data": {
      "text/plain": [
       "[0, 1]\n",
       "Categories (2, int64): [0 < 1]"
      ]
     },
     "execution_count": 348,
     "metadata": {},
     "output_type": "execute_result"
    }
   ],
   "source": [
    " bcg_mapping = {\n",
    "     \"no\": 0,\n",
    "     \"yes\": 1,\n",
    " }\n",
    "\n",
    "X[\"carecantread1\"] = X[\"carecantread1\"].map(bcg_mapping)\n",
    "X[\"carecantread1\"].unique()"
   ]
  },
  {
   "cell_type": "code",
   "execution_count": 349,
   "id": "4d945179-3530-4884-a0fd-7ee2373ae0ac",
   "metadata": {},
   "outputs": [
    {
     "data": {
      "text/plain": [
       "[12, 13, 9, 6, 4, ..., 10, 3, 2, 14, 1]\n",
       "Length: 15\n",
       "Categories (15, int64): [0 < 1 < 2 < 3 ... 11 < 12 < 13 < 14]"
      ]
     },
     "execution_count": 349,
     "metadata": {},
     "output_type": "execute_result"
    }
   ],
   "source": [
    "bcg_mapping = {\n",
    "    'None': 0,\n",
    "    'Grade 1': 1,\n",
    "    'Grade 2': 2,\n",
    "    'Grade 3': 3,\n",
    "    'Grade 4': 4,\n",
    "    'Grade 5': 5,\n",
    "    'Grade 6': 6,\n",
    "    'Grade 7': 7,\n",
    "    'Grade 8': 8,\n",
    "    'Grade 9': 9,\n",
    "    'Grade 10': 10,\n",
    "    'Grade 11': 11,\n",
    "    'Grade 12': 12,\n",
    "    'Post-secondary, vocational': 13,\n",
    "    'University': 14\n",
    "}\n",
    "\n",
    "X['caredu1'] = X['caredu1'].map(bcg_mapping)\n",
    "\n",
    "X[\"caredu1\"].unique()\n"
   ]
  },
  {
   "cell_type": "code",
   "execution_count": 350,
   "id": "d70d8bde-8147-44a7-ad7a-f1ba9d116159",
   "metadata": {},
   "outputs": [
    {
     "data": {
      "text/plain": [
       "[11, 12, 7, 6, 9, ..., 10, 5, 2, 1, 14]\n",
       "Length: 15\n",
       "Categories (15, int64): [0 < 1 < 2 < 3 ... 11 < 12 < 13 < 14]"
      ]
     },
     "execution_count": 350,
     "metadata": {},
     "output_type": "execute_result"
    }
   ],
   "source": [
    "bcg_mapping = {\n",
    "    'None': 0,\n",
    "    'Grade 1': 1,\n",
    "    'Grade 2': 2,\n",
    "    'Grade 3': 3,\n",
    "    'Grade 4': 4,\n",
    "    'Grade 5': 5,\n",
    "    'Grade 6': 6,\n",
    "    'Grade 7': 7,\n",
    "    'Grade 8': 8,\n",
    "    'Grade 9': 9,\n",
    "    'Grade 10': 10,\n",
    "    'Grade 11': 11,\n",
    "    'Grade 12': 12,\n",
    "    'Post-secondary, vocational': 13,\n",
    "    'University': 14\n",
    "}\n",
    "X['dadedu1'] = X['dadedu1'].map(bcg_mapping)\n",
    "X[\"dadedu1\"].unique()"
   ]
  },
  {
   "cell_type": "code",
   "execution_count": 351,
   "id": "6ad55bd5-ad49-45a8-99a7-b685f57c9084",
   "metadata": {},
   "outputs": [
    {
     "data": {
      "text/plain": [
       "[1]\n",
       "Categories (3, int64): [1 < 0 < 2]"
      ]
     },
     "execution_count": 351,
     "metadata": {},
     "output_type": "execute_result"
    }
   ],
   "source": [
    "bcg_mapping = {\n",
    "    'Lives in the household': 1,\n",
    "    'Does not live in household': 0,\n",
    "    'Has died': 2,\n",
    "}\n",
    "\n",
    "X[\"dadlive1\"] = X['dadlive1'].map(bcg_mapping)\n",
    "X[\"dadlive1\"].unique()"
   ]
  },
  {
   "cell_type": "code",
   "execution_count": 352,
   "id": "6396e84f-e5d8-4e19-b7d7-973120cde74a",
   "metadata": {},
   "outputs": [
    {
     "data": {
      "text/plain": [
       "[12, 13, 9, 6, 4, ..., 10, 3, 2, 14, 1]\n",
       "Length: 15\n",
       "Categories (15, int64): [0 < 1 < 2 < 3 ... 11 < 12 < 13 < 14]"
      ]
     },
     "execution_count": 352,
     "metadata": {},
     "output_type": "execute_result"
    }
   ],
   "source": [
    "bcg_mapping = {\n",
    "    'None': 0,\n",
    "    'Grade 1': 1,\n",
    "    'Grade 2': 2,\n",
    "    'Grade 3': 3,\n",
    "    'Grade 4': 4,\n",
    "    'Grade 5': 5,\n",
    "    'Grade 6': 6,\n",
    "    'Grade 7': 7,\n",
    "    'Grade 8': 8,\n",
    "    'Grade 9': 9,\n",
    "    'Grade 10': 10,\n",
    "    'Grade 11': 11,\n",
    "    'Grade 12': 12,\n",
    "    'Post-secondary, vocational': 13,\n",
    "    'University': 14\n",
    "}\n",
    "\n",
    "X['momedu1'] = X['momedu1'].map(bcg_mapping)\n",
    "X[\"momedu1\"].unique()"
   ]
  },
  {
   "cell_type": "code",
   "execution_count": 353,
   "id": "43e92e1f-5f8d-4b8c-a520-e92a11696dad",
   "metadata": {},
   "outputs": [
    {
     "data": {
      "text/plain": [
       "[1]\n",
       "Categories (2, int64): [1 < 0]"
      ]
     },
     "execution_count": 353,
     "metadata": {},
     "output_type": "execute_result"
    }
   ],
   "source": [
    "bcg_mapping = {\n",
    "    'Lives in the household': 1,\n",
    "    'Does not live in household': 0,\n",
    "    'Has died': 2,\n",
    "}\n",
    "\n",
    "X[\"momlive1\"] = X['momlive1'].map(bcg_mapping)\n",
    "\n",
    "X[\"momlive1\"].unique()"
   ]
  },
  {
   "cell_type": "code",
   "execution_count": 354,
   "id": "a8133720-7bff-4240-9dd6-b7cbcf8d9488",
   "metadata": {},
   "outputs": [
    {
     "data": {
      "text/plain": [
       "[11, 2, 7, 6, 9, ..., 4, 14, 10, 13, 1]\n",
       "Length: 15\n",
       "Categories (15, int64): [0 < 1 < 2 < 3 ... 11 < 12 < 13 < 14]"
      ]
     },
     "execution_count": 354,
     "metadata": {},
     "output_type": "execute_result"
    }
   ],
   "source": [
    "bcg_mapping = {\n",
    "    'None': 0,\n",
    "    'Grade 1': 1,\n",
    "    'Grade 2': 2,\n",
    "    'Grade 3': 3,\n",
    "    'Grade 4': 4,\n",
    "    'Grade 5': 5,\n",
    "    'Grade 6': 6,\n",
    "    'Grade 7': 7,\n",
    "    'Grade 8': 8,\n",
    "    'Grade 9': 9,\n",
    "    'Grade 10': 10,\n",
    "    'Grade 11': 11,\n",
    "    'Grade 12': 12,\n",
    "    'Post-secondary, vocational': 13,\n",
    "    'University': 14\n",
    "}\n",
    "\n",
    "X['headedu1'] = X['headedu1'].map(bcg_mapping)\n",
    "X[\"headedu1\"].unique()"
   ]
  },
  {
   "cell_type": "code",
   "execution_count": 355,
   "id": "117570ca-7d5b-43e2-a9aa-edbd1a78f59d",
   "metadata": {},
   "outputs": [
    {
     "data": {
      "text/plain": [
       "[1, 0]\n",
       "Categories (2, int64): [1 < 0]"
      ]
     },
     "execution_count": 355,
     "metadata": {},
     "output_type": "execute_result"
    }
   ],
   "source": [
    "bcg_mapping = {\n",
    "    'male': 1,\n",
    "    'female': 0,\n",
    "}\n",
    "\n",
    "X['headsex1'] = X['headsex1'].map(bcg_mapping)\n",
    "\n",
    "X[\"headsex1\"].unique()"
   ]
  },
  {
   "cell_type": "code",
   "execution_count": null,
   "id": "cc2094d5-1ac8-4c0d-9465-e5020adc92cc",
   "metadata": {},
   "outputs": [],
   "source": []
  },
  {
   "cell_type": "code",
   "execution_count": 356,
   "id": "460532bc-434a-4b17-9297-f6f745bf803d",
   "metadata": {},
   "outputs": [
    {
     "data": {
      "text/plain": [
       "[1, 0]\n",
       "Categories (2, int64): [0 < 1]"
      ]
     },
     "execution_count": 356,
     "metadata": {},
     "output_type": "execute_result"
    }
   ],
   "source": [
    " bcg_mapping = {\n",
    "     \"no\": 0,\n",
    "     \"yes\": 1,\n",
    " }\n",
    "X['ownlandhse1'] = X['ownlandhse1'].map(bcg_mapping)\n",
    "X[\"ownlandhse1\"].unique()"
   ]
  },
  {
   "cell_type": "code",
   "execution_count": null,
   "id": "8b6a0960-04f3-4322-a101-201a54198901",
   "metadata": {},
   "outputs": [],
   "source": []
  },
  {
   "cell_type": "code",
   "execution_count": 357,
   "id": "cfdaf801-f502-452f-acfc-a2295328fddb",
   "metadata": {},
   "outputs": [
    {
     "data": {
      "text/plain": [
       "[0, 1]\n",
       "Categories (2, int64): [1 < 0]"
      ]
     },
     "execution_count": 357,
     "metadata": {},
     "output_type": "execute_result"
    }
   ],
   "source": [
    " bcg_mapping = {\n",
    "     \"rural\": 0,\n",
    "     \"urban\": 1,\n",
    " }\n",
    "\n",
    "X['typesite1'] = X['typesite1'].map(bcg_mapping)\n",
    "X[\"typesite1\"].unique()"
   ]
  },
  {
   "cell_type": "code",
   "execution_count": 358,
   "id": "42b0d1a6-8f58-47e7-9b9c-9c809c4c9317",
   "metadata": {},
   "outputs": [
    {
     "data": {
      "text/plain": [
       "[0, 1]\n",
       "Categories (2, int64): [0 < 1]"
      ]
     },
     "execution_count": 358,
     "metadata": {},
     "output_type": "execute_result"
    }
   ],
   "source": [
    " bcg_mapping = {\n",
    "     \"No\": 0,\n",
    "     \"Yes\": 1,\n",
    " }\n",
    "\n",
    "X['cookingq1'] = X['cookingq1'].map(bcg_mapping)\n",
    "X[\"cookingq1\"].unique()"
   ]
  },
  {
   "cell_type": "code",
   "execution_count": null,
   "id": "d085df58-bce4-4827-82c0-d43a6197359e",
   "metadata": {},
   "outputs": [],
   "source": []
  },
  {
   "cell_type": "code",
   "execution_count": 359,
   "id": "19b057c3-4da0-450b-9615-519324ce3948",
   "metadata": {},
   "outputs": [
    {
     "data": {
      "text/plain": [
       "[0, 1]\n",
       "Categories (2, int64): [0 < 1]"
      ]
     },
     "execution_count": 359,
     "metadata": {},
     "output_type": "execute_result"
    }
   ],
   "source": [
    " bcg_mapping = {\n",
    "     \"No\": 0,\n",
    "     \"Yes\": 1,\n",
    " }\n",
    "\n",
    "X['drwaterq1'] = X['drwaterq1'].map(bcg_mapping)\n",
    "X[\"drwaterq1\"].unique()"
   ]
  },
  {
   "cell_type": "code",
   "execution_count": 360,
   "id": "806b3e17-83f4-436b-ba2d-08175592eea5",
   "metadata": {},
   "outputs": [
    {
     "data": {
      "text/plain": [
       "[1, 0]\n",
       "Categories (2, int64): [0 < 1]"
      ]
     },
     "execution_count": 360,
     "metadata": {},
     "output_type": "execute_result"
    }
   ],
   "source": [
    " bcg_mapping = {\n",
    "     \"No\": 0,\n",
    "     \"Yes\": 1,\n",
    " }\n",
    "\n",
    "X['elecq1'] = X['elecq1'].map(bcg_mapping)\n",
    "X[\"elecq1\"].unique()"
   ]
  },
  {
   "cell_type": "code",
   "execution_count": 361,
   "id": "297d9518-8a6c-4e8c-ace3-50c31b59ea12",
   "metadata": {},
   "outputs": [
    {
     "data": {
      "text/plain": [
       "[1, 0]\n",
       "Categories (2, int64): [0 < 1]"
      ]
     },
     "execution_count": 361,
     "metadata": {},
     "output_type": "execute_result"
    }
   ],
   "source": [
    " bcg_mapping = {\n",
    "     \"No\": 0,\n",
    "     \"Yes\": 1,\n",
    " }\n",
    "\n",
    "X['toiletq1'] = X['toiletq1'].map(bcg_mapping)\n",
    "X[\"toiletq1\"].unique()"
   ]
  },
  {
   "cell_type": "code",
   "execution_count": null,
   "id": "f2074943-07cc-448c-a5c1-16fb63ad28ed",
   "metadata": {},
   "outputs": [],
   "source": [
    "injury_child_may_die_r1\n",
    "sees_dad_daily_r1\n",
    "sees_mom_daily_r1\n",
    "health_worse_than_others_r1"
   ]
  },
  {
   "cell_type": "code",
   "execution_count": 362,
   "id": "a9a4c952-092f-456b-9ce1-5a788a3bae55",
   "metadata": {},
   "outputs": [
    {
     "data": {
      "text/plain": [
       "[0, 1]\n",
       "Categories (2, int64): [0 < 1]"
      ]
     },
     "execution_count": 362,
     "metadata": {},
     "output_type": "execute_result"
    }
   ],
   "source": [
    " bcg_mapping = {\n",
    "     0: 0,\n",
    "     \"Yes\": 1,\n",
    " }\n",
    "X[\"injury_child_may_die_r1\"] = X[\"injury_child_may_die_r1\"].map(bcg_mapping)\n",
    "\n",
    "X[\"injury_child_may_die_r1\"].unique()\n",
    "# X[\"sees_dad_daily_r1\"].unique()\n",
    "# X[\"sees_mom_daily_r1\"].unique()\n",
    "# X[\"health_worse_than_others_r1\"].unique()"
   ]
  },
  {
   "cell_type": "code",
   "execution_count": null,
   "id": "d4a5a042-4fdd-4579-82e5-90d41692739c",
   "metadata": {},
   "outputs": [],
   "source": []
  },
  {
   "cell_type": "code",
   "execution_count": 388,
   "id": "ffabf816-f1b0-4fba-9dd1-480ca1c72f9b",
   "metadata": {},
   "outputs": [
    {
     "name": "stdout",
     "output_type": "stream",
     "text": [
      "Columns dtype 'category':\n",
      "Series([], dtype: object)\n"
     ]
    }
   ],
   "source": [
    "category_columns = X.dtypes[X.dtypes == 'category']\n",
    "print(\"Columns dtype 'category':\")\n",
    "print(category_columns)"
   ]
  },
  {
   "cell_type": "code",
   "execution_count": 377,
   "id": "b2e222e9-eb21-4432-b474-8375b2bbd0dd",
   "metadata": {},
   "outputs": [],
   "source": [
    "# X['measles1'] = X['measles1'].astype(int)\n",
    "# X['tetanus1'] = X['tetanus1'].astype(int)\n",
    "# X['has_longterm_disease_r1'] = X['has_longterm_disease_r1'].astype(int)\n",
    "# X['carecantread1'] = X['carecantread1'].astype(int)\n",
    "# X['caredu1'] = X['caredu1'].astype(int)\n",
    "# X['dadage1'] = X['dadage1'].astype(int)\n",
    "# X['dadedu1'] = X['dadedu1'].astype(int)\n",
    "# X['dadlive1'] = X['dadlive1'].astype(int)\n",
    "# X['momage1'] = X['momage1'].astype(int)\n",
    "# X['momedu1'] = X['momedu1'].astype(int)\n",
    "# X['measles1'] = X['measles1'].astype(int)\n",
    "# X['momlive1'] = X['momlive1'].astype(int)"
   ]
  },
  {
   "cell_type": "code",
   "execution_count": 380,
   "id": "eb521cd9-8ed5-4a52-8475-b89a765626fe",
   "metadata": {},
   "outputs": [],
   "source": [
    "# X['numante1'] = X['numante1'].astype(int)\n",
    "# X['headedu1'] = X['headedu1'].astype(int)\n",
    "# X['headsex1'] = X['headsex1'].astype(int)\n",
    "# X['ownlandhse1'] = X['ownlandhse1'].astype(int)\n",
    "# X['typesite1'] = X['typesite1'].astype(int)\n",
    "# X['cookingq1'] = X['cookingq1'].astype(int)\n",
    "# X['drwaterq1'] = X['drwaterq1'].astype(int)\n",
    "# X['elecq1'] = X['elecq1'].astype(int)\n",
    "# X['toiletq1'] = X['toiletq1'].astype(int)\n",
    "# X['injury_child_may_die_r1'] = X['injury_child_may_die_r1'].astype(int)\n"
   ]
  },
  {
   "cell_type": "code",
   "execution_count": null,
   "id": "9907d7aa-acca-4465-9ddb-3353a6477afa",
   "metadata": {},
   "outputs": [],
   "source": []
  },
  {
   "cell_type": "code",
   "execution_count": null,
   "id": "fc2ba096-2c08-4535-85e3-26534966b83f",
   "metadata": {},
   "outputs": [],
   "source": []
  },
  {
   "cell_type": "markdown",
   "id": "84b3743c-6b50-4308-a328-8bf448a9d804",
   "metadata": {},
   "source": [
    "# Round 5 Clean"
   ]
  },
  {
   "cell_type": "code",
   "execution_count": 392,
   "id": "c1c42ff3-0c7d-4ee3-9391-53f00bd63c58",
   "metadata": {},
   "outputs": [
    {
     "data": {
      "text/plain": [
       "[1, 0, 2]\n",
       "Categories (3, int64): [0 < 1 < 2]"
      ]
     },
     "execution_count": 392,
     "metadata": {},
     "output_type": "execute_result"
    }
   ],
   "source": [
    "stunting_mapping = {\n",
    "    \"not stunted\": 0,\n",
    "    \"moderately stunted\": 1,\n",
    "    \"severely stunted\": 2,\n",
    "}\n",
    "\n",
    "y[\"stunting5\"] = y[\"stunting5\"].map(stunting_mapping)\n",
    "y[\"stunting5\"].unique()"
   ]
  },
  {
   "cell_type": "code",
   "execution_count": 398,
   "id": "6da49c86-79cf-4c26-9816-dc3d0e3d279c",
   "metadata": {},
   "outputs": [
    {
     "data": {
      "text/plain": [
       "[2, 3, 1, 4, 0]\n",
       "Categories (5, int64): [0 < 1 < 2 < 3 < 4]"
      ]
     },
     "execution_count": 398,
     "metadata": {},
     "output_type": "execute_result"
    }
   ],
   "source": [
    "stunting_mapping = {\n",
    "    \"very poor\": 0,\n",
    "    \"poor\": 1,\n",
    "    \"average\": 2,\n",
    "    \"good\":3,\n",
    "    \"very good\":4,\n",
    "}\n",
    "y[\"chhealth5\"] = y[\"chhealth5\"].map(stunting_mapping)\n",
    "y[\"chhealth5\"].unique()"
   ]
  },
  {
   "cell_type": "code",
   "execution_count": 402,
   "id": "76f4c359-ccad-440b-b80a-259910482191",
   "metadata": {},
   "outputs": [
    {
     "name": "stdout",
     "output_type": "stream",
     "text": [
      "Columns dtype 'category':\n",
      "Series([], dtype: object)\n"
     ]
    }
   ],
   "source": [
    "category_columns = y.dtypes[y.dtypes == 'category']\n",
    "print(\"Columns dtype 'category':\")\n",
    "print(category_columns)"
   ]
  },
  {
   "cell_type": "code",
   "execution_count": 401,
   "id": "ffcd6b17-961a-4a38-8653-68a028972682",
   "metadata": {},
   "outputs": [],
   "source": [
    "y['stunting5'] = y['stunting5'].astype(int)\n",
    "y['thinness5'] = y['thinness5'].astype(int)\n",
    "y['chhealth5'] = y['chhealth5'].astype(int)"
   ]
  },
  {
   "cell_type": "code",
   "execution_count": 406,
   "id": "2c45cfad-f8c4-4937-8189-c208c4674139",
   "metadata": {},
   "outputs": [],
   "source": [
    "X.to_csv('data/X_cleaned.csv', index=False)"
   ]
  },
  {
   "cell_type": "code",
   "execution_count": 407,
   "id": "dd326d64-b26f-4066-adce-6ef101d3480d",
   "metadata": {},
   "outputs": [],
   "source": [
    "y.to_csv('data/y_cleaned.csv', index=False)"
   ]
  },
  {
   "cell_type": "code",
   "execution_count": null,
   "id": "fdd9d698-32d2-4a79-aeb7-fd45fa892453",
   "metadata": {},
   "outputs": [],
   "source": []
  },
  {
   "cell_type": "code",
   "execution_count": null,
   "id": "692dc708-d557-4d50-97cc-2771a68a1886",
   "metadata": {},
   "outputs": [],
   "source": []
  }
 ],
 "metadata": {
  "kernelspec": {
   "display_name": "Python 3 (ipykernel)",
   "language": "python",
   "name": "python3"
  },
  "language_info": {
   "codemirror_mode": {
    "name": "ipython",
    "version": 3
   },
   "file_extension": ".py",
   "mimetype": "text/x-python",
   "name": "python",
   "nbconvert_exporter": "python",
   "pygments_lexer": "ipython3",
   "version": "3.12.8"
  }
 },
 "nbformat": 4,
 "nbformat_minor": 5
}
